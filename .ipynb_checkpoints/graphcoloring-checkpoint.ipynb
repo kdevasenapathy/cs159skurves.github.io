{
 "cells": [
  {
   "cell_type": "code",
   "execution_count": 31,
   "metadata": {},
   "outputs": [],
   "source": [
    "from networkx.generators.random_graphs import gnp_random_graph\n",
    "from networkx.algorithms.coloring import greedy_color\n",
    "import numpy as np\n",
    "\n",
    "def gen_n_random_graphs(n=10, nodes_range=(50, 100), edge_prob_range=(0.15, 0.65), seed=None):\n",
    "    graphs = [0]*n\n",
    "    num_nodes = np.random.randint(low=nodes_range[0], high=nodes_range[1], size=n)\n",
    "    start_prob, end_prob = edge_prob_range\n",
    "    edge_prob = np.random.random(size=n)*(end_prob-start_prob)+start_prob\n",
    "    for i in range(n):\n",
    "        graphs[i] = gnp_random_graph(n=num_nodes[i], p=edge_prob[i], seed=None, directed=False)\n",
    "    return graphs\n",
    "        "
   ]
  },
  {
   "cell_type": "markdown",
   "metadata": {},
   "source": [
    "## Coloring Algorithm\n",
    "Use the [*greedy_color*](https://networkx.github.io/documentation/latest/reference/algorithms/generated/networkx.algorithms.coloring.greedy_color.html#networkx.algorithms.coloring.greedy_color) algorithm to find a coloring of an arbitrary graph g.\n",
    "\n",
    "The function has several greedy metrics:\n",
    "\n",
    "* 'largest_first': Colors in decreasing order of degree\n",
    "* 'smallest_last': Colors in increasing order of degree\n",
    "* 'connected_sequential_dfs': Colors in order of depth first traversal\n",
    "* 'connected_sequential_bfs': Colors in order of breadth first traversal\n",
    "* 'random_sequential': Colors in a random order\n",
    "* 'independent_set': Finds and removes the maximal independent set, and assigns each node an unused color\n",
    "* 'saturation_largest_first': Colors by maximum \"Saturatation Degree\" which is the numbers of colors connected to an uncolored vertex\n"
   ]
  },
  {
   "cell_type": "code",
   "execution_count": 32,
   "metadata": {},
   "outputs": [],
   "source": [
    "def validate_coloring(graph, coloring):\n",
    "    for node in graph:\n",
    "        for neighbor in graph.neighbors(node):\n",
    "            if coloring[node] == coloring[neighbor]:\n",
    "                return False\n",
    "    return True\n",
    "\n",
    "def coloring_type(coloring):\n",
    "    return max(coloring.values())"
   ]
  },
  {
   "cell_type": "code",
   "execution_count": 33,
   "metadata": {},
   "outputs": [
    {
     "name": "stdout",
     "output_type": "stream",
     "text": [
      "Valid: True Colors: 10\n",
      "Valid: True Colors: 11\n",
      "Valid: True Colors: 20\n",
      "Valid: True Colors: 7\n",
      "Valid: True Colors: 21\n",
      "Valid: True Colors: 7\n",
      "Valid: True Colors: 14\n",
      "Valid: True Colors: 16\n",
      "Valid: True Colors: 14\n",
      "Valid: True Colors: 16\n"
     ]
    }
   ],
   "source": [
    "def gen_colorings(list_of_graphs, strategy='largest_first'):\n",
    "    return [[g, greedy_color(g, strategy)] for g in list_of_graphs]\n",
    "\n",
    "graphs_and_colorings = gen_colorings(gen_n_random_graphs())\n",
    "for g, c in graphs_and_colorings:\n",
    "    print('Valid: ' + str(validate_coloring(g, c)) + ' Colors: ' + str(coloring_type(c)))\n"
   ]
  },
  {
   "cell_type": "code",
   "execution_count": null,
   "metadata": {},
   "outputs": [],
   "source": []
  }
 ],
 "metadata": {
  "kernelspec": {
   "display_name": "Python 3",
   "language": "python",
   "name": "python3"
  },
  "language_info": {
   "codemirror_mode": {
    "name": "ipython",
    "version": 3
   },
   "file_extension": ".py",
   "mimetype": "text/x-python",
   "name": "python",
   "nbconvert_exporter": "python",
   "pygments_lexer": "ipython3",
   "version": "3.7.4"
  }
 },
 "nbformat": 4,
 "nbformat_minor": 4
}

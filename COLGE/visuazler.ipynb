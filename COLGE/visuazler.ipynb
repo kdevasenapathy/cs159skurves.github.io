{
 "cells": [
  {
   "cell_type": "code",
   "execution_count": 7,
   "metadata": {},
   "outputs": [
    {
     "name": "stdout",
     "output_type": "stream",
     "text": [
      "[16. 16. 15. ... 12. 11. 11.]\n"
     ]
    },
    {
     "data": {
      "image/png": "[encoded data removed]",
      "text/plain": [
       "<Figure size 432x288 with 1 Axes>"
      ]
     },
     "metadata": {
      "needs_background": "light"
     },
     "output_type": "display_data"
    }
   ],
   "source": [
    "import numpy as np\n",
    "import matplotlib.pyplot as plt\n",
    "import matplotlib\n",
    "import pathlib\n",
    "\n",
    "#matplotlib.use('TkAgg')\n",
    "\n",
    "'''\n",
    "out_type can be: 'final' for the final output file of the model after all epochs,\n",
    "                 'epoch' to select a specific epoch (see mode to determine which epoch file to use)\n",
    "                 'opt' for optimal ratio output\n",
    "'''\n",
    "def read_output_file(folder_name='', out_type='final', epoch=0, mode='absolute'):\n",
    "    current_path = pathlib.Path().absolute()\n",
    "    directory_path = current_path / folder_name\n",
    "    \n",
    "    if out_type == 'opt':\n",
    "        filename = 'opt_set.out'\n",
    "    elif out_type == 'final':\n",
    "        filename = 'test.out'\n",
    "    elif out_type == 'epoch':\n",
    "        filename = 'test_'\n",
    "        if mode == 'approx':\n",
    "            filename += 'approx_'\n",
    "        filename += str(epoch) + '.out'\n",
    "    else:\n",
    "        print(\"Unrecognized output type\")\n",
    "        return None\n",
    "        \n",
    "    file_path = directory_path / filename\n",
    "    return np.loadtxt(file_path, dtype=np.float32)\n",
    "    \n",
    "test_output = read_output_file(out_type='final', folder_name='FeedbackVertexTest')\n",
    "opt_set_output = -1*read_output_file(out_type='opt', folder_name='FeedbackVertexTest')\n",
    "print(test_output)\n",
    "plt.plot(opt_set_output)\n",
    "plt.show()"
   ]
  },
  {
   "cell_type": "code",
   "execution_count": null,
   "metadata": {},
   "outputs": [],
   "source": []
  }
 ],
 "metadata": {
  "kernelspec": {
   "display_name": "Python 3",
   "language": "python",
   "name": "python3"
  },
  "language_info": {
   "codemirror_mode": {
    "name": "ipython",
    "version": 3
   },
   "file_extension": ".py",
   "mimetype": "text/x-python",
   "name": "python",
   "nbconvert_exporter": "python",
   "pygments_lexer": "ipython3",
   "version": "3.7.2"
  }
 },
 "nbformat": 4,
 "nbformat_minor": 4
}
